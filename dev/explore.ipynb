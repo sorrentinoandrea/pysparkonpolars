{
 "cells": [
  {
   "cell_type": "code",
   "execution_count": 1,
   "metadata": {},
   "outputs": [],
   "source": [
    "import os\n",
    "os.chdir(\"/Users/andreasorrentino/pysparkonpolars/pysparkonpolars\")\n",
    "os.environ[\"PYTHONPATH\"] = \".\"\n",
    "os.environ[\"JAVA_HOME\"] = \"/usr/local/opt/openjdk@17/libexec/openjdk.jdk/Contents/Home\"\n"
   ]
  },
  {
   "cell_type": "code",
   "execution_count": 11,
   "metadata": {},
   "outputs": [
    {
     "name": "stderr",
     "output_type": "stream",
     "text": [
      "Setting default log level to \"WARN\".\n",
      "To adjust logging level use sc.setLogLevel(newLevel). For SparkR, use setLogLevel(newLevel).\n",
      "24/01/09 16:24:05 WARN NativeCodeLoader: Unable to load native-hadoop library for your platform... using builtin-java classes where applicable\n",
      "/Library/Frameworks/Python.framework/Versions/3.7/lib/python3.7/site-packages/pyspark/context.py:317: FutureWarning: Python 3.7 support is deprecated in Spark 3.4.\n",
      "  warnings.warn(\"Python 3.7 support is deprecated in Spark 3.4.\", FutureWarning)\n"
     ]
    }
   ],
   "source": [
    "from pysparkpl.sql.sparksession import SessionHelper\n",
    "\n",
    "ps_spark = SessionHelper().session(SessionHelper.Engine.SPARK).builder.getOrCreate()\n",
    "pl_spark = SessionHelper().session(SessionHelper.Engine.POLARS).builder.getOrCreate()"
   ]
  },
  {
   "cell_type": "code",
   "execution_count": 14,
   "metadata": {},
   "outputs": [
    {
     "name": "stdout",
     "output_type": "stream",
     "text": [
      "+---+---+-----+---+---+\n",
      "|  a|  b|    c|  a|  b|\n",
      "+---+---+-----+---+---+\n",
      "|  1|  2|hello|  1|  2|\n",
      "|  1|  2|hello|  3|  5|\n",
      "|  3|  4|world|  3|  5|\n",
      "+---+---+-----+---+---+\n",
      "\n"
     ]
    }
   ],
   "source": [
    "from pyspark.sql.functions import col\n",
    "ps_dfl = ps_spark.createDataFrame([[1, 2, \"hello\"], [3, 4, \"world\"]], [\"a\", \"b\", \"c\"])\n",
    "ps_dfr = ps_spark.createDataFrame([[1, 2], [3, 5]], [\"a\", \"b\"])\n",
    "\n",
    "ps_dfj = ps_dfl.join(ps_dfr, (ps_dfl.a<=ps_dfr.a) & (ps_dfl.b <= ps_dfr.b) & (ps_dfl.a >= 1), how=\"inner\")\n",
    "\n",
    "ps_dfj.show()\n"
   ]
  },
  {
   "cell_type": "code",
   "execution_count": 15,
   "metadata": {},
   "outputs": [
    {
     "data": {
      "text/html": [
       "<div>\n",
       "<style scoped>\n",
       "    .dataframe tbody tr th:only-of-type {\n",
       "        vertical-align: middle;\n",
       "    }\n",
       "\n",
       "    .dataframe tbody tr th {\n",
       "        vertical-align: top;\n",
       "    }\n",
       "\n",
       "    .dataframe thead th {\n",
       "        text-align: right;\n",
       "    }\n",
       "</style>\n",
       "<table border=\"1\" class=\"dataframe\">\n",
       "  <thead>\n",
       "    <tr style=\"text-align: right;\">\n",
       "      <th></th>\n",
       "      <th>a</th>\n",
       "      <th>b</th>\n",
       "      <th>c</th>\n",
       "      <th>a</th>\n",
       "      <th>b</th>\n",
       "    </tr>\n",
       "  </thead>\n",
       "  <tbody>\n",
       "    <tr>\n",
       "      <th>0</th>\n",
       "      <td>1</td>\n",
       "      <td>2</td>\n",
       "      <td>hello</td>\n",
       "      <td>1</td>\n",
       "      <td>2</td>\n",
       "    </tr>\n",
       "    <tr>\n",
       "      <th>1</th>\n",
       "      <td>1</td>\n",
       "      <td>2</td>\n",
       "      <td>hello</td>\n",
       "      <td>3</td>\n",
       "      <td>5</td>\n",
       "    </tr>\n",
       "    <tr>\n",
       "      <th>2</th>\n",
       "      <td>3</td>\n",
       "      <td>4</td>\n",
       "      <td>world</td>\n",
       "      <td>3</td>\n",
       "      <td>5</td>\n",
       "    </tr>\n",
       "  </tbody>\n",
       "</table>\n",
       "</div>"
      ],
      "text/plain": [
       "   a  b      c  a  b\n",
       "0  1  2  hello  1  2\n",
       "1  1  2  hello  3  5\n",
       "2  3  4  world  3  5"
      ]
     },
     "execution_count": 15,
     "metadata": {},
     "output_type": "execute_result"
    }
   ],
   "source": [
    "import polars as pl\n",
    "pl_dfl = pl_spark.createDataFrame([[1, 2, \"hello\"], [3, 4, \"world\"]], [\"a\", \"b\", \"c\"])\n",
    "pl_dfr = pl_spark.createDataFrame([[1, 2], [3, 5]], [\"a\", \"b\"])\n",
    "\n",
    "pl_dfj = pl_dfl.join(pl_dfr, (pl_dfl.a<=pl_dfr.a) & (pl_dfl.b <= pl_dfr.b) & (pl_dfl.a >= 1), how=\"inner\")\n",
    "\n",
    "pl_dfj.toPandas()\n"
   ]
  },
  {
   "cell_type": "code",
   "execution_count": null,
   "metadata": {},
   "outputs": [],
   "source": []
  }
 ],
 "metadata": {
  "kernelspec": {
   "display_name": "Python 3",
   "language": "python",
   "name": "python3"
  },
  "language_info": {
   "codemirror_mode": {
    "name": "ipython",
    "version": 3
   },
   "file_extension": ".py",
   "mimetype": "text/x-python",
   "name": "python",
   "nbconvert_exporter": "python",
   "pygments_lexer": "ipython3",
   "version": "3.7.9"
  }
 },
 "nbformat": 4,
 "nbformat_minor": 2
}
