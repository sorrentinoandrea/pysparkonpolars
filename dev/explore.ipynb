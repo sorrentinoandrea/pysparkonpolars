{
 "cells": [
  {
   "cell_type": "code",
   "execution_count": 1,
   "metadata": {},
   "outputs": [],
   "source": [
    "import os\n",
    "os.chdir(\"/Users/andrea/Development/pysparkonpolars\")\n",
    "os.environ[\"PYTHONPATH\"] = \".\"\n",
    "os.environ[\"JAVA_HOME\"] = \"/usr/local/opt/openjdk@17/libexec/openjdk.jdk/Contents/Home\""
   ]
  },
  {
   "cell_type": "code",
   "execution_count": 5,
   "metadata": {},
   "outputs": [
    {
     "name": "stderr",
     "output_type": "stream",
     "text": [
      "/Library/Frameworks/Python.framework/Versions/3.7/lib/python3.7/site-packages/pyspark/context.py:317: FutureWarning: Python 3.7 support is deprecated in Spark 3.4.\n",
      "  warnings.warn(\"Python 3.7 support is deprecated in Spark 3.4.\", FutureWarning)\n"
     ]
    }
   ],
   "source": [
    "from pysparkpl.sql.sparksession import SessionHelper\n",
    "\n",
    "ps_spark = SessionHelper().session(SessionHelper.Engine.SPARK).builder.getOrCreate()\n",
    "pl_spark = SessionHelper().session(SessionHelper.Engine.POLARS).builder.getOrCreate()"
   ]
  },
  {
   "cell_type": "code",
   "execution_count": 48,
   "metadata": {},
   "outputs": [
    {
     "data": {
      "text/plain": [
       "[Row(a=1, b=2, a=1, b=2), Row(a=3, b=4, a=3, b=4)]"
      ]
     },
     "execution_count": 48,
     "metadata": {},
     "output_type": "execute_result"
    }
   ],
   "source": [
    "ps_dfl = ps_spark.createDataFrame([[1, 2], [3, 4]], [\"a\", \"b\"])\n",
    "ps_dfr = ps_spark.createDataFrame([[1, 2], [3, 4]], [\"a\", \"b\"])\n",
    "\n",
    "ps_dfj = ps_dfl.join(ps_dfr, ps_dfl.a == ps_dfr.a, how=\"inner\")\n",
    "ps_dfj.collect()"
   ]
  },
  {
   "cell_type": "code",
   "execution_count": 46,
   "metadata": {},
   "outputs": [
    {
     "data": {
      "text/plain": [
       "[Row(a=1, b=3), Row(a=2, b=4), Row(a=1, b=3), Row(a=2, b=4)]"
      ]
     },
     "execution_count": 46,
     "metadata": {},
     "output_type": "execute_result"
    }
   ],
   "source": [
    "pl_dfl = pl_spark.createDataFrame([[1, 2], [3, 4]], [\"a\", \"b\"])\n",
    "pl_dfr = pl_spark.createDataFrame([[1, 2], [3, 4]], [\"a\", \"b\"])\n",
    "\n",
    "pl_dfj = pl_dfl.join(pl_dfr, pl_dfl.a == pl_dfr.a, how=\"inner\")\n",
    "pl_dfj.collect()\n"
   ]
  },
  {
   "cell_type": "code",
   "execution_count": 50,
   "metadata": {},
   "outputs": [
    {
     "data": {
      "text/plain": [
       "'0x7f8b815cda10'"
      ]
     },
     "execution_count": 50,
     "metadata": {},
     "output_type": "execute_result"
    }
   ],
   "source": [
    "hex(id(pl_dfj))"
   ]
  },
  {
   "cell_type": "code",
   "execution_count": null,
   "metadata": {},
   "outputs": [],
   "source": []
  }
 ],
 "metadata": {
  "kernelspec": {
   "display_name": "Python 3",
   "language": "python",
   "name": "python3"
  },
  "language_info": {
   "codemirror_mode": {
    "name": "ipython",
    "version": 3
   },
   "file_extension": ".py",
   "mimetype": "text/x-python",
   "name": "python",
   "nbconvert_exporter": "python",
   "pygments_lexer": "ipython3",
   "version": "3.7.9"
  }
 },
 "nbformat": 4,
 "nbformat_minor": 2
}
